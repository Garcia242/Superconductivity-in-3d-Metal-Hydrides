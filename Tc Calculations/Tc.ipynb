{
 "cells": [
  {
   "cell_type": "code",
   "execution_count": 51,
   "metadata": {},
   "outputs": [
    {
     "name": "stdout",
     "output_type": "stream",
     "text": [
      "[6.000000e-02 1.074000e+00 4.039500e+00 6.482994e+02]\n",
      "10\n",
      "51.66356689274893\n",
      "50.57191900272474\n",
      "50.14832637501418\n",
      "46.2253393678985\n",
      "44.09134806540263\n",
      "43.44933791047361\n",
      "43.354291532306725\n",
      "43.36216348787757\n",
      "43.31928223263432\n",
      "43.24505529607407\n"
     ]
    }
   ],
   "source": [
    "import numpy as np\n",
    "import pandas as pd\n",
    "import math\n",
    "\n",
    "data = np.loadtxt(\"/Users/guilhermegarcia/GLCGarcia documents /University /3rd year 2023 /Summer Development Internship /Tc-python/Fe3H8.txt\")\n",
    "\n",
    "#data = pd.read_csv(\"/Users/guilhermegarcia/GLCGarcia documents /University /3rd year 2023 /Summer Development Internship /Tc-python/Fe3H8.txt\" , sep = \" \", header = None)\n",
    "\n",
    "print(data[2])\n",
    "\n",
    "mu = 0.10\n",
    "\n",
    "print(len(data))\n",
    "\n",
    "for i in range (0,len(data)):\n",
    "\n",
    "    #Tc using macmillan formula\n",
    "\n",
    "    Tc = ((data[i][3]) / 1.2) * math.e ** ((-1.04 * (1 + data[i][1]))/(data[i][1] * (1 - 0.62 * mu) - mu))\n",
    "    \n",
    "    print(Tc)\n",
    "\n",
    "    #print(\"For Broadening \" + data[2][0] + \"Tc is\" + Tc)"
   ]
  },
  {
   "cell_type": "code",
   "execution_count": 59,
   "metadata": {},
   "outputs": [
    {
     "name": "stdout",
     "output_type": "stream",
     "text": [
      "[6.0000000e-02 3.0360000e-01 8.4821000e+00 2.9748001e+03]\n",
      "10\n",
      "5.1897764775803505\n",
      "0.38951545030100554\n",
      "0.27931350766260443\n",
      "0.1824608783656148\n",
      "0.08240629717143862\n",
      "0.028835298619300804\n",
      "0.008431868188616923\n",
      "0.002212647662635769\n",
      "0.0005342591952085631\n",
      "0.00012126367553691621\n"
     ]
    }
   ],
   "source": [
    "data = np.loadtxt(\"/Users/guilhermegarcia/GLCGarcia documents /University /3rd year 2023 /Summer Development Internship /Tc-python/FeH-new.dat\")\n",
    "\n",
    "#data = pd.read_csv(\"/Users/guilhermegarcia/GLCGarcia documents /University /3rd year 2023 /Summer Development Internship /Tc-python/Fe3H8.txt\" , sep = \" \", header = None)\n",
    "\n",
    "print(data[2])\n",
    "\n",
    "mu = 0.13\n",
    "\n",
    "# print(len(data))\n",
    "\n",
    "for i in range (0,len(data)):\n",
    "\n",
    "    #Tc using macmillan formula\n",
    "\n",
    "    Tc = ((data[i][3]) / 1.2) * math.e ** ((-1.04 * (1 + data[i][1]))/(data[i][1] * (1 - 0.62 * mu) - mu))\n",
    "    \n",
    "    print(Tc)\n"
   ]
  },
  {
   "cell_type": "code",
   "execution_count": 65,
   "metadata": {},
   "outputs": [
    {
     "name": "stdout",
     "output_type": "stream",
     "text": [
      "[6.000000e-02 3.105400e+00 2.141300e+00 5.247296e+02]\n",
      "10\n",
      "124.91921007169307\n",
      "104.06842688937388\n",
      "88.18299781258769\n",
      "74.71316217994517\n",
      "61.910269981111625\n",
      "50.48848004637467\n",
      "41.87423332163826\n",
      "36.71361679669512\n",
      "34.53641551710802\n",
      "34.366741220890624\n"
     ]
    }
   ],
   "source": [
    "data = np.loadtxt(\"/Users/guilhermegarcia/GLCGarcia documents /University /3rd year 2023 /Summer Development Internship /Tc-python/FeH3-new.dat\")\n",
    "\n",
    "#data = pd.read_csv(\"/Users/guilhermegarcia/GLCGarcia documents /University /3rd year 2023 /Summer Development Internship /Tc-python/Fe3H8.txt\" , sep = \" \", header = None)\n",
    "\n",
    "print(data[2])\n",
    "\n",
    "mu = 0.15\n",
    "\n",
    "print(len(data))\n",
    "\n",
    "for i in range (0,len(data)):\n",
    "\n",
    "    #Tc using macmillan formula\n",
    "\n",
    "    Tc = ((data[i][3]) / 1.2) * math.e ** ((-1.04 * (1 + data[i][1]))/(data[i][1] * (1 - 0.62 * mu) - mu))\n",
    "    \n",
    "    print(Tc)"
   ]
  }
 ],
 "metadata": {
  "kernelspec": {
   "display_name": "summer2024",
   "language": "python",
   "name": "python3"
  },
  "language_info": {
   "codemirror_mode": {
    "name": "ipython",
    "version": 3
   },
   "file_extension": ".py",
   "mimetype": "text/x-python",
   "name": "python",
   "nbconvert_exporter": "python",
   "pygments_lexer": "ipython3",
   "version": "3.12.3"
  }
 },
 "nbformat": 4,
 "nbformat_minor": 2
}
